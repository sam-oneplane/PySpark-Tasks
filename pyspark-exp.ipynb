{
 "cells": [
  {
   "cell_type": "code",
   "execution_count": 1,
   "id": "5ea62c80",
   "metadata": {},
   "outputs": [],
   "source": [
    "from pyspark.sql import SparkSession"
   ]
  },
  {
   "cell_type": "code",
   "execution_count": 2,
   "id": "2c51ee57",
   "metadata": {},
   "outputs": [
    {
     "name": "stderr",
     "output_type": "stream",
     "text": [
      "Setting default log level to \"WARN\".\n",
      "To adjust logging level use sc.setLogLevel(newLevel). For SparkR, use setLogLevel(newLevel).\n"
     ]
    },
    {
     "name": "stdout",
     "output_type": "stream",
     "text": [
      "23/04/19 20:08:02 WARN NativeCodeLoader: Unable to load native-hadoop library for your platform... using builtin-java classes where applicable\n"
     ]
    }
   ],
   "source": [
    "# Create a SparkSession\n",
    "spark = SparkSession.builder.appName(\"task1\").getOrCreate()"
   ]
  },
  {
   "cell_type": "code",
   "execution_count": 3,
   "id": "6c641750",
   "metadata": {},
   "outputs": [
    {
     "name": "stderr",
     "output_type": "stream",
     "text": [
      "                                                                                \r"
     ]
    }
   ],
   "source": [
    "cves_df = spark.read.json(\"cves.json\")"
   ]
  },
  {
   "cell_type": "code",
   "execution_count": 5,
   "id": "e3929994",
   "metadata": {
    "scrolled": true
   },
   "outputs": [
    {
     "name": "stderr",
     "output_type": "stream",
     "text": [
      "                                                                                \r"
     ]
    }
   ],
   "source": [
    "cpes_df = spark.read.json(\"cpes.json\")"
   ]
  },
  {
   "cell_type": "code",
   "execution_count": 7,
   "id": "73c7ade8",
   "metadata": {},
   "outputs": [
    {
     "name": "stderr",
     "output_type": "stream",
     "text": [
      "                                                                                \r"
     ]
    }
   ],
   "source": [
    "cve2cpe_df = spark.read.json(\"cve2cpe.json\")"
   ]
  },
  {
   "cell_type": "code",
   "execution_count": 9,
   "id": "d33013a4",
   "metadata": {},
   "outputs": [],
   "source": [
    "from pyspark.sql.functions import col, collect_list"
   ]
  },
  {
   "cell_type": "code",
   "execution_count": 12,
   "id": "fc248ef3",
   "metadata": {},
   "outputs": [],
   "source": [
    "# Join cve2cpe_df with cpes_df to find the matching CPES for each CVE\n",
    "match_cpes_df = cve2cpe_df.join(cpes_df, \n",
    "                               (cpes_df.product_name == cve2cpe_df.product_name) &\n",
    "                               (cpes_df.vendor == cve2cpe_df.vendor) &\n",
    "                               (cpes_df.product_version == cve2cpe_df.product_version) &\n",
    "                               ((cve2cpe_df.from_version == \"\") | (cpes_df.product_version > cve2cpe_df.from_version)) &\n",
    "                               ((cve2cpe_df.to_version == \"\") | (cpes_df.product_version < cve2cpe_df.to_version)),\n",
    "                               how='left').select(cpes_df[\"cpe\"],\n",
    "                                                  cpes_df[\"cpe_id\"],\n",
    "                                                  cve2cpe_df[\"cve\"],\n",
    "                                                  cpes_df[\"title\"])"
   ]
  },
  {
   "cell_type": "code",
   "execution_count": 13,
   "id": "8c0a936e",
   "metadata": {},
   "outputs": [
    {
     "name": "stderr",
     "output_type": "stream",
     "text": [
      "[Stage 10:>                                                         (0 + 4) / 4]\r"
     ]
    },
    {
     "name": "stdout",
     "output_type": "stream",
     "text": [
      "(11944914, 4)\n"
     ]
    },
    {
     "name": "stderr",
     "output_type": "stream",
     "text": [
      "\r",
      "                                                                                \r"
     ]
    }
   ],
   "source": [
    "print((match_cpes_df.count(), len(match_cpes_df.columns)))\n"
   ]
  },
  {
   "cell_type": "code",
   "execution_count": 14,
   "id": "fbbf73a6",
   "metadata": {},
   "outputs": [],
   "source": [
    "# Group the matching CPES by CVE and collect them into an array\n",
    "cve_match_cpes_df = match_cpes_df.groupBy('cve').agg(collect_list('cpe').alias('cpe'))"
   ]
  },
  {
   "cell_type": "code",
   "execution_count": 16,
   "id": "2a2b7a3f",
   "metadata": {},
   "outputs": [
    {
     "name": "stderr",
     "output_type": "stream",
     "text": [
      "[Stage 15:=========================================>                (5 + 2) / 7]\r"
     ]
    },
    {
     "name": "stdout",
     "output_type": "stream",
     "text": [
      "(197711, 2)\n"
     ]
    },
    {
     "name": "stderr",
     "output_type": "stream",
     "text": [
      "\r",
      "                                                                                \r"
     ]
    }
   ],
   "source": [
    "print((cve_match_cpes_df.count(), len(cve_match_cpes_df.columns)))"
   ]
  },
  {
   "cell_type": "code",
   "execution_count": 18,
   "id": "a74de15b",
   "metadata": {},
   "outputs": [],
   "source": [
    "# Join cve_matching_cpes_df with cves_df to filter the matching CPES that exist in cves_df\n",
    "output_df = cve_match_cpes_df.join(cves_df, \n",
    "                                   cve_match_cpes_df['cve'] == cves_df['cve'],\n",
    "                                   how='inner').select(cve_match_cpes_df[\"cve\"],\n",
    "                                                       cves_df[\"description\"],\n",
    "                                                       cve_match_cpes_df[\"cpe\"])"
   ]
  },
  {
   "cell_type": "code",
   "execution_count": 19,
   "id": "981f4230",
   "metadata": {},
   "outputs": [
    {
     "name": "stderr",
     "output_type": "stream",
     "text": [
      "                                                                                \r"
     ]
    },
    {
     "name": "stdout",
     "output_type": "stream",
     "text": [
      "(197711, 3)\n"
     ]
    }
   ],
   "source": [
    "print((output_df.count(), len(output_df.columns)))"
   ]
  },
  {
   "cell_type": "code",
   "execution_count": 20,
   "id": "f6263b37",
   "metadata": {},
   "outputs": [
    {
     "name": "stderr",
     "output_type": "stream",
     "text": [
      "                                                                                \r"
     ]
    }
   ],
   "source": [
    "# Write the output to a JSON file\n",
    "output_df.write.json('output1.json')"
   ]
  },
  {
   "cell_type": "code",
   "execution_count": null,
   "id": "1214864b",
   "metadata": {},
   "outputs": [],
   "source": []
  }
 ],
 "metadata": {
  "kernelspec": {
   "display_name": "Python 3",
   "language": "python",
   "name": "python3"
  },
  "language_info": {
   "codemirror_mode": {
    "name": "ipython",
    "version": 3
   },
   "file_extension": ".py",
   "mimetype": "text/x-python",
   "name": "python",
   "nbconvert_exporter": "python",
   "pygments_lexer": "ipython3",
   "version": "3.8.6"
  }
 },
 "nbformat": 4,
 "nbformat_minor": 5
}
