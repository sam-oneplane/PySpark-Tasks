{
 "cells": [
  {
   "cell_type": "code",
   "execution_count": 1,
   "id": "93d7e8b8",
   "metadata": {},
   "outputs": [],
   "source": [
    "from pyspark.sql import SparkSession"
   ]
  },
  {
   "cell_type": "code",
   "execution_count": 2,
   "id": "42c96b00",
   "metadata": {},
   "outputs": [
    {
     "name": "stderr",
     "output_type": "stream",
     "text": [
      "Setting default log level to \"WARN\".\n",
      "To adjust logging level use sc.setLogLevel(newLevel). For SparkR, use setLogLevel(newLevel).\n"
     ]
    },
    {
     "name": "stdout",
     "output_type": "stream",
     "text": [
      "23/04/19 20:08:02 WARN NativeCodeLoader: Unable to load native-hadoop library for your platform... using builtin-java classes where applicable\n"
     ]
    }
   ],
   "source": [
    "# Create a SparkSession\n",
    "spark = SparkSession.builder.appName(\"Wizdome-task1\").getOrCreate()"
   ]
  },
  {
   "cell_type": "code",
   "execution_count": 3,
   "id": "fb265055",
   "metadata": {},
   "outputs": [
    {
     "name": "stderr",
     "output_type": "stream",
     "text": [
      "                                                                                \r"
     ]
    }
   ],
   "source": [
    "cves_df = spark.read.json(\"cves.json\")"
   ]
  },
  {
   "cell_type": "code",
   "execution_count": 4,
   "id": "aff3bf46",
   "metadata": {},
   "outputs": [
    {
     "name": "stdout",
     "output_type": "stream",
     "text": [
      "+-------------+---------------+--------------------+-----------+------------+-----------+--------------------+-----+--------------------+--------------------+-------------+------+\n",
      "|          cve|            cwe|         description|is_rejected|modifiedDate|publishDate|          references|score|      score_metadata|        score_vector|score_version|status|\n",
      "+-------------+---------------+--------------------+-----------+------------+-----------+--------------------+-----+--------------------+--------------------+-------------+------+\n",
      "|CVE-1999-0095|[NVD-CWE-Other]|The debug command...|      false|  11-06-2019| 01-10-1988|[http://seclists....| 10.0|{false, HIGH, 10....|{LOW, NETWORK, NO...|          2.0|      |\n",
      "|CVE-1999-0082|[NVD-CWE-Other]|CWD ~root command...|      false|  09-09-2008| 11-11-1988|[http://www.alw.n...| 10.0|{false, HIGH, 10....|{LOW, NETWORK, NO...|          2.0|      |\n",
      "|CVE-1999-1471|[NVD-CWE-Other]|Buffer overflow i...|      false|  05-09-2008| 01-01-1989|[http://www.cert....|  7.2|{false, HIGH, 3.9...|{LOW, LOCAL, NONE...|          2.0|      |\n",
      "|CVE-1999-1122|[NVD-CWE-Other]|Vulnerability in ...|      false|  03-05-2018| 26-07-1989|[http://www.cert....|  4.6|{false, MEDIUM, 3...|{LOW, LOCAL, NONE...|          2.0|      |\n",
      "|CVE-1999-1467|[NVD-CWE-Other]|Vulnerability in ...|      false|  19-12-2017| 26-10-1989|[http://www.cert....| 10.0|{false, HIGH, 10....|{LOW, NETWORK, NO...|          2.0|      |\n",
      "+-------------+---------------+--------------------+-----------+------------+-----------+--------------------+-----+--------------------+--------------------+-------------+------+\n",
      "only showing top 5 rows\n",
      "\n"
     ]
    }
   ],
   "source": [
    "cves_df.show(5)"
   ]
  },
  {
   "cell_type": "code",
   "execution_count": 5,
   "id": "5173f767",
   "metadata": {
    "scrolled": true
   },
   "outputs": [
    {
     "name": "stderr",
     "output_type": "stream",
     "text": [
      "                                                                                \r"
     ]
    }
   ],
   "source": [
    "cpes_df = spark.read.json(\"cpes.json\")"
   ]
  },
  {
   "cell_type": "code",
   "execution_count": 6,
   "id": "b0f7ce99",
   "metadata": {
    "scrolled": true
   },
   "outputs": [
    {
     "name": "stdout",
     "output_type": "stream",
     "text": [
      "+-------+--------------------+--------------------+-------+--------------------+-------------+----+------------+-----+---------------+---------------+----------+----------+---------+---------+--------------------+--------------+------+\n",
      "|corrupt|                 cpe|              cpe_id|edition|          format_cpe|is_deprecated|lang|modifiedDate|other|   product_name|product_version|references|sw_edition|target_hw|target_sw|               title|update_version|vendor|\n",
      "+-------+--------------------+--------------------+-------+--------------------+-------------+----+------------+-----+---------------+---------------+----------+----------+---------+---------+--------------------+--------------+------+\n",
      "|  false|cpe:2.3:a:3com:3c...|BAE41D20-D4AF-4AF...|      *|cpe:2.3:a:3com:3c...|        false|   *|  12-01-2011|    *|       3cdaemon|              -|        []|         *|        *|        *|       3Com 3CDaemon|             *|  3com|\n",
      "|  false|cpe:2.3:h:3com:3c...|DFB483A6-4F16-4B8...|      *|cpe:2.3:h:3com:3c...|        false|   *|  12-01-2011|    *|    3crwe454g72|              -|        []|         *|        *|        *|3Com 3Com OfficeC...|             *|  3com|\n",
      "|  false|cpe:2.3:h:3com:we...|D76DE3F0-1884-406...|      *|cpe:2.3:h:3com:we...|        false|   *|  12-01-2011|    *|webbngss3nbxnts|              -|        []|         *|        *|        *|3Com 3Com SuperSt...|             *|  3com|\n",
      "|  false|cpe:2.3:a:3com:3c...|FFADC2E2-6888-490...|      *|cpe:2.3:a:3com:3c...|        false|   *|  12-01-2011|    *|       3cserver|              -|        []|         *|        *|        *|       3Com 3CServer|             *|  3com|\n",
      "|  false|cpe:2.3:a:3com:3c...|70541E97-4633-4EA...|      *|cpe:2.3:a:3com:3c...|        false|   *|  12-01-2011|    *|      3ctftpsvc|              -|        []|         *|        *|        *|      3Com 3CTftpSvc|             *|  3com|\n",
      "+-------+--------------------+--------------------+-------+--------------------+-------------+----+------------+-----+---------------+---------------+----------+----------+---------+---------+--------------------+--------------+------+\n",
      "only showing top 5 rows\n",
      "\n"
     ]
    }
   ],
   "source": [
    "cpes_df.show(5)"
   ]
  },
  {
   "cell_type": "code",
   "execution_count": 7,
   "id": "7ba76ba0",
   "metadata": {},
   "outputs": [
    {
     "name": "stderr",
     "output_type": "stream",
     "text": [
      "                                                                                \r"
     ]
    }
   ],
   "source": [
    "cve2cpe_df = spark.read.json(\"cve2cpe.json\")"
   ]
  },
  {
   "cell_type": "code",
   "execution_count": 8,
   "id": "a73f71a7",
   "metadata": {
    "scrolled": true
   },
   "outputs": [
    {
     "name": "stdout",
     "output_type": "stream",
     "text": [
      "+-------+--------------------+-------------+-------+--------------------+------------+--------------+------------+----+-----+------------+---------------+----------+---------+---------+----------+--------------+-----------+\n",
      "|corrupt|                 cpe|          cve|edition|          format_cpe|from_version|including_from|including_to|lang|other|product_name|product_version|sw_edition|target_hw|target_sw|to_version|update_version|     vendor|\n",
      "+-------+--------------------+-------------+-------+--------------------+------------+--------------+------------+----+-----+------------+---------------+----------+---------+---------+----------+--------------+-----------+\n",
      "|  false|cpe:2.3:a:eric_al...|CVE-1999-0095|      *|cpe:2.3:a:eric_al...|            |         false|       false|   *|    *|    sendmail|           5.58|         *|        *|        *|          |             *|eric_allman|\n",
      "|  false|cpe:2.3:a:ftp:ftp...|CVE-1999-0082|      *|cpe:2.3:a:ftp:ftp...|            |         false|       false|   *|    *|         ftp|              *|         *|        *|        *|          |             *|        ftp|\n",
      "|  false|cpe:2.3:a:ftpcd:f...|CVE-1999-0082|      *|cpe:2.3:a:ftpcd:f...|            |         false|       false|   *|    *|       ftpcd|              *|         *|        *|        *|          |             *|      ftpcd|\n",
      "|  false|cpe:2.3:o:bsd:bsd...|CVE-1999-1471|      *|cpe:2.3:o:bsd:bsd...|            |         false|       false|   *|    *|         bsd|            4.2|         *|        *|        *|          |             *|        bsd|\n",
      "|  false|cpe:2.3:o:bsd:bsd...|CVE-1999-1471|      *|cpe:2.3:o:bsd:bsd...|            |         false|       false|   *|    *|         bsd|            4.3|         *|        *|        *|          |             *|        bsd|\n",
      "+-------+--------------------+-------------+-------+--------------------+------------+--------------+------------+----+-----+------------+---------------+----------+---------+---------+----------+--------------+-----------+\n",
      "only showing top 5 rows\n",
      "\n"
     ]
    }
   ],
   "source": [
    "cve2cpe_df.show(5)"
   ]
  },
  {
   "cell_type": "code",
   "execution_count": 9,
   "id": "2e1be9cb",
   "metadata": {},
   "outputs": [],
   "source": [
    "from pyspark.sql.functions import col, collect_list"
   ]
  },
  {
   "cell_type": "code",
   "execution_count": 12,
   "id": "a9549d72",
   "metadata": {},
   "outputs": [],
   "source": [
    "# Join cve2cpe_df with cpes_df to find the matching CPES for each CVE\n",
    "match_cpes_df = cve2cpe_df.join(cpes_df, \n",
    "                               (cpes_df.product_name == cve2cpe_df.product_name) &\n",
    "                               (cpes_df.vendor == cve2cpe_df.vendor) &\n",
    "                               (cpes_df.product_version == cve2cpe_df.product_version) &\n",
    "                               ((cve2cpe_df.from_version == \"\") | (cpes_df.product_version > cve2cpe_df.from_version)) &\n",
    "                               ((cve2cpe_df.to_version == \"\") | (cpes_df.product_version < cve2cpe_df.to_version)),\n",
    "                               how='left').select(cpes_df[\"cpe\"],\n",
    "                                                  cpes_df[\"cpe_id\"],\n",
    "                                                  cve2cpe_df[\"cve\"],\n",
    "                                                  cpes_df[\"title\"])"
   ]
  },
  {
   "cell_type": "code",
   "execution_count": 13,
   "id": "d3fe8299",
   "metadata": {},
   "outputs": [
    {
     "name": "stderr",
     "output_type": "stream",
     "text": [
      "[Stage 10:>                                                         (0 + 4) / 4]\r"
     ]
    },
    {
     "name": "stdout",
     "output_type": "stream",
     "text": [
      "(11944914, 4)\n"
     ]
    },
    {
     "name": "stderr",
     "output_type": "stream",
     "text": [
      "\r",
      "                                                                                \r"
     ]
    }
   ],
   "source": [
    "print((match_cpes_df.count(), len(match_cpes_df.columns)))\n"
   ]
  },
  {
   "cell_type": "code",
   "execution_count": 14,
   "id": "17f8291c",
   "metadata": {},
   "outputs": [],
   "source": [
    "# Group the matching CPES by CVE and collect them into an array\n",
    "cve_match_cpes_df = match_cpes_df.groupBy('cve').agg(collect_list('cpe').alias('cpe'))"
   ]
  },
  {
   "cell_type": "code",
   "execution_count": 16,
   "id": "fb96e2cc",
   "metadata": {},
   "outputs": [
    {
     "name": "stderr",
     "output_type": "stream",
     "text": [
      "[Stage 15:=========================================>                (5 + 2) / 7]\r"
     ]
    },
    {
     "name": "stdout",
     "output_type": "stream",
     "text": [
      "(197711, 2)\n"
     ]
    },
    {
     "name": "stderr",
     "output_type": "stream",
     "text": [
      "\r",
      "                                                                                \r"
     ]
    }
   ],
   "source": [
    "print((cve_match_cpes_df.count(), len(cve_match_cpes_df.columns)))"
   ]
  },
  {
   "cell_type": "code",
   "execution_count": 17,
   "id": "1d76da11",
   "metadata": {},
   "outputs": [
    {
     "name": "stderr",
     "output_type": "stream",
     "text": [
      "[Stage 25:==============================================>           (4 + 1) / 5]\r"
     ]
    },
    {
     "name": "stdout",
     "output_type": "stream",
     "text": [
      "+-------------+--------------------+\n",
      "|          cve|                 cpe|\n",
      "+-------------+--------------------+\n",
      "|CVE-1999-0002|[cpe:2.3:o:redhat...|\n",
      "|CVE-1999-0003|[cpe:2.3:o:ibm:ai...|\n",
      "|CVE-1999-0004|                  []|\n",
      "|CVE-1999-0005|[cpe:2.3:a:netsca...|\n",
      "|CVE-1999-0007|[cpe:2.3:a:micros...|\n",
      "+-------------+--------------------+\n",
      "only showing top 5 rows\n",
      "\n"
     ]
    },
    {
     "name": "stderr",
     "output_type": "stream",
     "text": [
      "\r",
      "                                                                                \r"
     ]
    }
   ],
   "source": [
    "cve_match_cpes_df.show(5)"
   ]
  },
  {
   "cell_type": "code",
   "execution_count": 18,
   "id": "dc50b504",
   "metadata": {},
   "outputs": [],
   "source": [
    "# Join cve_matching_cpes_df with cves_df to filter the matching CPES that exist in cves_df\n",
    "output_df = cve_match_cpes_df.join(cves_df, \n",
    "                                   cve_match_cpes_df['cve'] == cves_df['cve'],\n",
    "                                   how='inner').select(cve_match_cpes_df[\"cve\"],\n",
    "                                                       cves_df[\"description\"],\n",
    "                                                       cve_match_cpes_df[\"cpe\"])"
   ]
  },
  {
   "cell_type": "code",
   "execution_count": 19,
   "id": "40c485a1",
   "metadata": {},
   "outputs": [
    {
     "name": "stderr",
     "output_type": "stream",
     "text": [
      "                                                                                \r"
     ]
    },
    {
     "name": "stdout",
     "output_type": "stream",
     "text": [
      "(197711, 3)\n"
     ]
    }
   ],
   "source": [
    "print((output_df.count(), len(output_df.columns)))"
   ]
  },
  {
   "cell_type": "code",
   "execution_count": 20,
   "id": "75c38aef",
   "metadata": {},
   "outputs": [
    {
     "name": "stderr",
     "output_type": "stream",
     "text": [
      "                                                                                \r"
     ]
    }
   ],
   "source": [
    "# Write the output to a JSON file\n",
    "output_df.write.json('output1.json')"
   ]
  },
  {
   "cell_type": "code",
   "execution_count": null,
   "id": "202d7d04",
   "metadata": {},
   "outputs": [],
   "source": []
  }
 ],
 "metadata": {
  "kernelspec": {
   "display_name": "Python 3 (ipykernel)",
   "language": "python",
   "name": "python3"
  },
  "language_info": {
   "codemirror_mode": {
    "name": "ipython",
    "version": 3
   },
   "file_extension": ".py",
   "mimetype": "text/x-python",
   "name": "python",
   "nbconvert_exporter": "python",
   "pygments_lexer": "ipython3",
   "version": "3.8.6"
  }
 },
 "nbformat": 4,
 "nbformat_minor": 5
}
